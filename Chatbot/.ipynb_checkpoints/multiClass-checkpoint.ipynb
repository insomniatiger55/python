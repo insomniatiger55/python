{
 "cells": [
  {
   "cell_type": "code",
   "execution_count": 44,
   "metadata": {},
   "outputs": [],
   "source": [
    "import json\n",
    "import nltk\n",
    "import string\n",
    "from nltk.stem import WordNetLemmatizer\n",
    "lemmatizer = WordNetLemmatizer()"
   ]
  },
  {
   "cell_type": "code",
   "execution_count": 175,
   "metadata": {},
   "outputs": [],
   "source": [
    "import pickle\n",
    "import numpy as np\n",
    "from keras.models import Sequential\n",
    "from keras.layers import Dense, Activation, Dropout\n",
    "from keras.optimizers import SGD\n",
    "import random\n"
   ]
  },
  {
   "cell_type": "code",
   "execution_count": 45,
   "metadata": {},
   "outputs": [],
   "source": [
    "intents = json.loads(open('intents.json').read())\n",
    "words=[]\n",
    "classes = []\n",
    "documents = []\n",
    "ignore_words = string.punctuation"
   ]
  },
  {
   "cell_type": "code",
   "execution_count": 47,
   "metadata": {},
   "outputs": [],
   "source": [
    "for intent in intents['intents']:\n",
    "    for pattern in intent['patterns']:\n",
    "        w=nltk.word_tokenize(pattern)\n",
    "        words.extend(w)\n",
    "        \n",
    "        #add documents in the corpus\n",
    "        documents.append((w, intent['tag']))\n",
    "        # add to our classes list\n",
    "        if intent['tag'] not in classes:\n",
    "            classes.append(intent['tag'])"
   ]
  },
  {
   "cell_type": "code",
   "execution_count": 170,
   "metadata": {},
   "outputs": [],
   "source": [
    "#import pandas as pd\n",
    "#df=pd.DataFrame(documents)"
   ]
  },
  {
   "cell_type": "code",
   "execution_count": 48,
   "metadata": {},
   "outputs": [],
   "source": [
    "# lemmaztize and lower each word and remove duplicates using set\n",
    "words = [lemmatizer.lemmatize(w.lower()) for w in words if w not in ignore_words]\n",
    "words = sorted(list(set(words)))"
   ]
  },
  {
   "cell_type": "code",
   "execution_count": 52,
   "metadata": {},
   "outputs": [],
   "source": [
    "# create training data\n",
    "training = []\n",
    "# create an empty array for our output\n",
    "output_empty = [0] * len(classes)\n"
   ]
  },
  {
   "cell_type": "code",
   "execution_count": 53,
   "metadata": {},
   "outputs": [
    {
     "data": {
      "text/plain": [
       "[0, 0, 0, 0, 0, 0, 0, 0, 0]"
      ]
     },
     "execution_count": 53,
     "metadata": {},
     "output_type": "execute_result"
    }
   ],
   "source": [
    "# training set, bag of words for each sentence\n",
    "for doc in documents:\n",
    "    # initialize our bag of words\n",
    "    bag = []\n",
    "    # list of tokenized words for the pattern\n",
    "    pattern_words = doc[0]\n",
    "    # lemmatize each word - create base word, in attempt to represent related words\n",
    "    pattern_words = [lemmatizer.lemmatize(word.lower()) for word in pattern_words]\n",
    "    # create our bag of words array with 1, if word match found in current pattern\n",
    "    for w in words:\n",
    "        bag.append(1) if w in pattern_words else bag.append(0)\n",
    "    \n",
    "    # output is a '0' for each tag and '1' for current tag (for each pattern)\n",
    "    output_row = list(output_empty)\n",
    "    output_row[classes.index(doc[1])] = 1\n",
    "    \n",
    "    training.append([bag, output_row])"
   ]
  },
  {
   "cell_type": "code",
   "execution_count": 64,
   "metadata": {},
   "outputs": [],
   "source": [
    "for doc in documents:\n",
    "    # initialize our bag of words\n",
    "    bag = []\n",
    "    # list of tokenized words for the pattern\n",
    "    pattern_words = doc[0]\n",
    "    # lemmatize each word - create base word, in attempt to represent related words\n",
    "    pattern_words = [lemmatizer.lemmatize(word.lower()) for word in pattern_words]\n",
    "    for w in words:\n",
    "        bag.append(1) if w in pattern_words else bag.append(0)\n",
    "    output_row = list(output_empty)\n",
    "    output_row[classes.index(doc[1])] = 1\n",
    "    \n",
    "    training.append([bag, output_row])    "
   ]
  },
  {
   "cell_type": "code",
   "execution_count": 81,
   "metadata": {},
   "outputs": [
    {
     "name": "stdout",
     "output_type": "stream",
     "text": [
      "Training data created\n"
     ]
    }
   ],
   "source": [
    "# shuffle our features and turn into np.array\n",
    "random.shuffle(training)\n",
    "training = np.array(training)\n",
    "# create train and test lists. X - patterns, Y - intents\n",
    "train_x = list(training[:,0])\n",
    "train_y = list(training[:,1])\n",
    "print(\"Training data created\")"
   ]
  },
  {
   "cell_type": "code",
   "execution_count": 82,
   "metadata": {},
   "outputs": [],
   "source": [
    "# Create model - 3 layers. First layer 128 neurons, second layer 64 neurons and 3rd output layer contains number of neurons\n",
    "# equal to number of intents to predict output intent with softmax\n",
    "model = Sequential()\n",
    "model.add(Dense(128, input_shape=(len(train_x[0]),), activation='relu'))\n",
    "model.add(Dropout(0.5))\n",
    "model.add(Dense(64, activation='relu'))\n",
    "model.add(Dropout(0.5))\n",
    "model.add(Dense(len(train_y[0]), activation='softmax'))\n"
   ]
  },
  {
   "cell_type": "code",
   "execution_count": 83,
   "metadata": {},
   "outputs": [],
   "source": [
    "# Compile model. Stochastic gradient descent with Nesterov accelerated gradient gives good results for this model\n",
    "sgd = SGD(lr=0.01, decay=1e-6, momentum=0.9, nesterov=True)\n",
    "model.compile(loss='categorical_crossentropy', optimizer=sgd, metrics=['accuracy'])\n"
   ]
  },
  {
   "cell_type": "code",
   "execution_count": 84,
   "metadata": {
    "scrolled": false
   },
   "outputs": [
    {
     "name": "stdout",
     "output_type": "stream",
     "text": [
      "Epoch 1/200\n",
      "10/10 [==============================] - 2s 2ms/step - loss: 2.2808 - accuracy: 0.0339 \n",
      "Epoch 2/200\n",
      "10/10 [==============================] - 0s 1ms/step - loss: 2.1098 - accuracy: 0.2196\n",
      "Epoch 3/200\n",
      "10/10 [==============================] - 0s 1ms/step - loss: 2.0284 - accuracy: 0.2812\n",
      "Epoch 4/200\n",
      "10/10 [==============================] - 0s 1ms/step - loss: 1.6127 - accuracy: 0.5355\n",
      "Epoch 5/200\n",
      "10/10 [==============================] - 0s 1ms/step - loss: 1.6132 - accuracy: 0.4924\n",
      "Epoch 6/200\n",
      "10/10 [==============================] - 0s 1ms/step - loss: 1.3671 - accuracy: 0.5742\n",
      "Epoch 7/200\n",
      "10/10 [==============================] - 0s 1ms/step - loss: 1.1951 - accuracy: 0.5881\n",
      "Epoch 8/200\n",
      "10/10 [==============================] - 0s 1ms/step - loss: 1.0664 - accuracy: 0.6313\n",
      "Epoch 9/200\n",
      "10/10 [==============================] - 0s 1ms/step - loss: 1.1691 - accuracy: 0.6133\n",
      "Epoch 10/200\n",
      "10/10 [==============================] - 0s 1ms/step - loss: 0.9468 - accuracy: 0.7176\n",
      "Epoch 11/200\n",
      "10/10 [==============================] - 0s 1ms/step - loss: 0.5921 - accuracy: 0.8469\n",
      "Epoch 12/200\n",
      "10/10 [==============================] - 0s 1ms/step - loss: 0.7124 - accuracy: 0.7998\n",
      "Epoch 13/200\n",
      "10/10 [==============================] - 0s 1ms/step - loss: 0.7635 - accuracy: 0.7985\n",
      "Epoch 14/200\n",
      "10/10 [==============================] - 0s 1ms/step - loss: 0.6677 - accuracy: 0.8159\n",
      "Epoch 15/200\n",
      "10/10 [==============================] - 0s 1ms/step - loss: 0.4085 - accuracy: 0.9181\n",
      "Epoch 16/200\n",
      "10/10 [==============================] - 0s 1ms/step - loss: 0.4886 - accuracy: 0.8463\n",
      "Epoch 17/200\n",
      "10/10 [==============================] - 0s 1ms/step - loss: 0.5933 - accuracy: 0.8377\n",
      "Epoch 18/200\n",
      "10/10 [==============================] - 0s 1ms/step - loss: 0.3827 - accuracy: 0.9183\n",
      "Epoch 19/200\n",
      "10/10 [==============================] - 0s 1ms/step - loss: 0.3938 - accuracy: 0.9409\n",
      "Epoch 20/200\n",
      "10/10 [==============================] - 0s 1ms/step - loss: 0.3248 - accuracy: 0.9918\n",
      "Epoch 21/200\n",
      "10/10 [==============================] - 0s 1ms/step - loss: 0.3452 - accuracy: 0.9199\n",
      "Epoch 22/200\n",
      "10/10 [==============================] - 0s 1ms/step - loss: 0.2999 - accuracy: 0.8909\n",
      "Epoch 23/200\n",
      "10/10 [==============================] - 0s 1ms/step - loss: 0.3512 - accuracy: 0.9243\n",
      "Epoch 24/200\n",
      "10/10 [==============================] - 0s 1ms/step - loss: 0.3004 - accuracy: 0.9498\n",
      "Epoch 25/200\n",
      "10/10 [==============================] - 0s 1ms/step - loss: 0.2698 - accuracy: 0.9349\n",
      "Epoch 26/200\n",
      "10/10 [==============================] - 0s 1ms/step - loss: 0.3167 - accuracy: 0.9227\n",
      "Epoch 27/200\n",
      "10/10 [==============================] - 0s 1ms/step - loss: 0.1916 - accuracy: 0.9892\n",
      "Epoch 28/200\n",
      "10/10 [==============================] - 0s 1ms/step - loss: 0.2349 - accuracy: 0.9167\n",
      "Epoch 29/200\n",
      "10/10 [==============================] - 0s 1ms/step - loss: 0.2577 - accuracy: 0.9076\n",
      "Epoch 30/200\n",
      "10/10 [==============================] - 0s 1ms/step - loss: 0.2114 - accuracy: 0.9544\n",
      "Epoch 31/200\n",
      "10/10 [==============================] - 0s 1ms/step - loss: 0.1953 - accuracy: 0.9638\n",
      "Epoch 32/200\n",
      "10/10 [==============================] - 0s 1ms/step - loss: 0.2663 - accuracy: 0.9309\n",
      "Epoch 33/200\n",
      "10/10 [==============================] - 0s 1ms/step - loss: 0.2074 - accuracy: 0.9498\n",
      "Epoch 34/200\n",
      "10/10 [==============================] - 0s 1ms/step - loss: 0.2441 - accuracy: 0.9382\n",
      "Epoch 35/200\n",
      "10/10 [==============================] - 0s 1ms/step - loss: 0.1371 - accuracy: 0.9699\n",
      "Epoch 36/200\n",
      "10/10 [==============================] - 0s 1ms/step - loss: 0.1524 - accuracy: 0.9108\n",
      "Epoch 37/200\n",
      "10/10 [==============================] - 0s 1ms/step - loss: 0.1087 - accuracy: 1.0000\n",
      "Epoch 38/200\n",
      "10/10 [==============================] - 0s 1ms/step - loss: 0.1205 - accuracy: 0.9918\n",
      "Epoch 39/200\n",
      "10/10 [==============================] - 0s 1ms/step - loss: 0.1059 - accuracy: 0.9892\n",
      "Epoch 40/200\n",
      "10/10 [==============================] - 0s 1ms/step - loss: 0.0824 - accuracy: 0.9638\n",
      "Epoch 41/200\n",
      "10/10 [==============================] - 0s 1ms/step - loss: 0.1883 - accuracy: 0.9488\n",
      "Epoch 42/200\n",
      "10/10 [==============================] - 0s 1ms/step - loss: 0.1873 - accuracy: 0.9862\n",
      "Epoch 43/200\n",
      "10/10 [==============================] - 0s 1ms/step - loss: 0.1576 - accuracy: 0.9388\n",
      "Epoch 44/200\n",
      "10/10 [==============================] - 0s 1ms/step - loss: 0.0715 - accuracy: 1.0000\n",
      "Epoch 45/200\n",
      "10/10 [==============================] - 0s 1ms/step - loss: 0.1568 - accuracy: 0.9409\n",
      "Epoch 46/200\n",
      "10/10 [==============================] - 0s 1ms/step - loss: 0.0916 - accuracy: 0.9941\n",
      "Epoch 47/200\n",
      "10/10 [==============================] - 0s 1ms/step - loss: 0.1358 - accuracy: 0.9780\n",
      "Epoch 48/200\n",
      "10/10 [==============================] - 0s 1ms/step - loss: 0.0523 - accuracy: 1.0000\n",
      "Epoch 49/200\n",
      "10/10 [==============================] - 0s 1ms/step - loss: 0.0637 - accuracy: 1.0000\n",
      "Epoch 50/200\n",
      "10/10 [==============================] - 0s 1ms/step - loss: 0.0949 - accuracy: 1.0000\n",
      "Epoch 51/200\n",
      "10/10 [==============================] - 0s 1ms/step - loss: 0.1298 - accuracy: 0.9941\n",
      "Epoch 52/200\n",
      "10/10 [==============================] - 0s 1ms/step - loss: 0.0646 - accuracy: 1.0000\n",
      "Epoch 53/200\n",
      "10/10 [==============================] - 0s 1ms/step - loss: 0.0748 - accuracy: 1.0000\n",
      "Epoch 54/200\n",
      "10/10 [==============================] - 0s 1ms/step - loss: 0.1287 - accuracy: 1.0000\n",
      "Epoch 55/200\n",
      "10/10 [==============================] - 0s 1ms/step - loss: 0.0733 - accuracy: 1.0000\n",
      "Epoch 56/200\n",
      "10/10 [==============================] - 0s 1ms/step - loss: 0.0338 - accuracy: 1.0000\n",
      "Epoch 57/200\n",
      "10/10 [==============================] - 0s 1ms/step - loss: 0.0820 - accuracy: 1.0000\n",
      "Epoch 58/200\n",
      "10/10 [==============================] - 0s 1ms/step - loss: 0.1012 - accuracy: 1.0000\n",
      "Epoch 59/200\n",
      "10/10 [==============================] - 0s 1ms/step - loss: 0.1103 - accuracy: 0.9629\n",
      "Epoch 60/200\n",
      "10/10 [==============================] - 0s 1ms/step - loss: 0.0393 - accuracy: 1.0000\n",
      "Epoch 61/200\n",
      "10/10 [==============================] - 0s 1ms/step - loss: 0.0515 - accuracy: 0.9918\n",
      "Epoch 62/200\n",
      "10/10 [==============================] - 0s 1ms/step - loss: 0.0255 - accuracy: 1.0000\n",
      "Epoch 63/200\n",
      "10/10 [==============================] - 0s 1ms/step - loss: 0.0337 - accuracy: 1.0000\n",
      "Epoch 64/200\n",
      "10/10 [==============================] - 0s 1ms/step - loss: 0.1116 - accuracy: 0.9447\n",
      "Epoch 65/200\n",
      "10/10 [==============================] - 0s 1ms/step - loss: 0.0325 - accuracy: 0.9862\n",
      "Epoch 66/200\n",
      "10/10 [==============================] - 0s 1ms/step - loss: 0.0226 - accuracy: 1.0000\n",
      "Epoch 67/200\n",
      "10/10 [==============================] - 0s 1ms/step - loss: 0.0420 - accuracy: 0.9826\n",
      "Epoch 68/200\n",
      "10/10 [==============================] - 0s 1ms/step - loss: 0.0184 - accuracy: 1.0000\n",
      "Epoch 69/200\n",
      "10/10 [==============================] - 0s 1ms/step - loss: 0.0679 - accuracy: 1.0000\n",
      "Epoch 70/200\n",
      "10/10 [==============================] - 0s 1ms/step - loss: 0.0518 - accuracy: 0.9720\n",
      "Epoch 71/200\n",
      "10/10 [==============================] - 0s 1ms/step - loss: 0.0829 - accuracy: 1.0000\n",
      "Epoch 72/200\n",
      "10/10 [==============================] - 0s 1ms/step - loss: 0.0845 - accuracy: 0.9720\n",
      "Epoch 73/200\n",
      "10/10 [==============================] - 0s 1ms/step - loss: 0.0520 - accuracy: 0.9688\n",
      "Epoch 74/200\n",
      "10/10 [==============================] - 0s 1ms/step - loss: 0.0313 - accuracy: 1.0000\n",
      "Epoch 75/200\n",
      "10/10 [==============================] - 0s 1ms/step - loss: 0.0253 - accuracy: 1.0000\n",
      "Epoch 76/200\n",
      "10/10 [==============================] - 0s 1ms/step - loss: 0.0350 - accuracy: 1.0000\n",
      "Epoch 77/200\n",
      "10/10 [==============================] - 0s 1ms/step - loss: 0.0360 - accuracy: 1.0000\n",
      "Epoch 78/200\n",
      "10/10 [==============================] - 0s 1ms/step - loss: 0.0340 - accuracy: 1.0000\n",
      "Epoch 79/200\n",
      "10/10 [==============================] - 0s 1ms/step - loss: 0.0343 - accuracy: 0.9892\n",
      "Epoch 80/200\n",
      "10/10 [==============================] - 0s 1ms/step - loss: 0.0483 - accuracy: 0.9918\n",
      "Epoch 81/200\n",
      "10/10 [==============================] - 0s 1ms/step - loss: 0.0221 - accuracy: 0.9918\n",
      "Epoch 82/200\n",
      "10/10 [==============================] - 0s 1ms/step - loss: 0.0275 - accuracy: 1.0000\n",
      "Epoch 83/200\n"
     ]
    },
    {
     "name": "stdout",
     "output_type": "stream",
     "text": [
      "10/10 [==============================] - 0s 1ms/step - loss: 0.0682 - accuracy: 1.0000\n",
      "Epoch 84/200\n",
      "10/10 [==============================] - 0s 1ms/step - loss: 0.0157 - accuracy: 1.0000\n",
      "Epoch 85/200\n",
      "10/10 [==============================] - 0s 1ms/step - loss: 0.0262 - accuracy: 1.0000\n",
      "Epoch 86/200\n",
      "10/10 [==============================] - 0s 1ms/step - loss: 0.0156 - accuracy: 1.0000\n",
      "Epoch 87/200\n",
      "10/10 [==============================] - 0s 1ms/step - loss: 0.0286 - accuracy: 1.0000\n",
      "Epoch 88/200\n",
      "10/10 [==============================] - 0s 1ms/step - loss: 0.1324 - accuracy: 0.9447\n",
      "Epoch 89/200\n",
      "10/10 [==============================] - 0s 1ms/step - loss: 0.0337 - accuracy: 1.0000\n",
      "Epoch 90/200\n",
      "10/10 [==============================] - 0s 1ms/step - loss: 0.0109 - accuracy: 1.0000\n",
      "Epoch 91/200\n",
      "10/10 [==============================] - 0s 1ms/step - loss: 0.0202 - accuracy: 1.0000\n",
      "Epoch 92/200\n",
      "10/10 [==============================] - 0s 1ms/step - loss: 0.0580 - accuracy: 1.0000\n",
      "Epoch 93/200\n",
      "10/10 [==============================] - 0s 1ms/step - loss: 0.0242 - accuracy: 1.0000\n",
      "Epoch 94/200\n",
      "10/10 [==============================] - 0s 1ms/step - loss: 0.0672 - accuracy: 1.0000\n",
      "Epoch 95/200\n",
      "10/10 [==============================] - 0s 1ms/step - loss: 0.0126 - accuracy: 1.0000\n",
      "Epoch 96/200\n",
      "10/10 [==============================] - 0s 1ms/step - loss: 0.0327 - accuracy: 1.0000\n",
      "Epoch 97/200\n",
      "10/10 [==============================] - 0s 1ms/step - loss: 0.0542 - accuracy: 1.0000\n",
      "Epoch 98/200\n",
      "10/10 [==============================] - 0s 1ms/step - loss: 0.0561 - accuracy: 1.0000\n",
      "Epoch 99/200\n",
      "10/10 [==============================] - 0s 1ms/step - loss: 0.0541 - accuracy: 0.9826\n",
      "Epoch 100/200\n",
      "10/10 [==============================] - 0s 1ms/step - loss: 0.0687 - accuracy: 0.9862\n",
      "Epoch 101/200\n",
      "10/10 [==============================] - 0s 1ms/step - loss: 0.0175 - accuracy: 1.0000\n",
      "Epoch 102/200\n",
      "10/10 [==============================] - 0s 1ms/step - loss: 0.0101 - accuracy: 1.0000\n",
      "Epoch 103/200\n",
      "10/10 [==============================] - 0s 1ms/step - loss: 0.0975 - accuracy: 0.9629\n",
      "Epoch 104/200\n",
      "10/10 [==============================] - 0s 1ms/step - loss: 0.0365 - accuracy: 1.0000\n",
      "Epoch 105/200\n",
      "10/10 [==============================] - 0s 1ms/step - loss: 0.0080 - accuracy: 1.0000\n",
      "Epoch 106/200\n",
      "10/10 [==============================] - 0s 1ms/step - loss: 0.0069 - accuracy: 1.0000\n",
      "Epoch 107/200\n",
      "10/10 [==============================] - 0s 1ms/step - loss: 0.0157 - accuracy: 0.9862\n",
      "Epoch 108/200\n",
      "10/10 [==============================] - 0s 1ms/step - loss: 0.0059 - accuracy: 1.0000\n",
      "Epoch 109/200\n",
      "10/10 [==============================] - 0s 1ms/step - loss: 0.0585 - accuracy: 0.9862\n",
      "Epoch 110/200\n",
      "10/10 [==============================] - 0s 1ms/step - loss: 0.0394 - accuracy: 0.9780\n",
      "Epoch 111/200\n",
      "10/10 [==============================] - 0s 1ms/step - loss: 0.0252 - accuracy: 1.0000\n",
      "Epoch 112/200\n",
      "10/10 [==============================] - 0s 1ms/step - loss: 0.0452 - accuracy: 1.0000\n",
      "Epoch 113/200\n",
      "10/10 [==============================] - 0s 1ms/step - loss: 0.0233 - accuracy: 1.0000\n",
      "Epoch 114/200\n",
      "10/10 [==============================] - 0s 1ms/step - loss: 0.0214 - accuracy: 1.0000\n",
      "Epoch 115/200\n",
      "10/10 [==============================] - 0s 1ms/step - loss: 0.0541 - accuracy: 0.9892\n",
      "Epoch 116/200\n",
      "10/10 [==============================] - 0s 1ms/step - loss: 0.1236 - accuracy: 0.9629\n",
      "Epoch 117/200\n",
      "10/10 [==============================] - 0s 1ms/step - loss: 0.0218 - accuracy: 1.0000\n",
      "Epoch 118/200\n",
      "10/10 [==============================] - 0s 1ms/step - loss: 0.0461 - accuracy: 1.0000\n",
      "Epoch 119/200\n",
      "10/10 [==============================] - 0s 1ms/step - loss: 0.0108 - accuracy: 1.0000\n",
      "Epoch 120/200\n",
      "10/10 [==============================] - 0s 1ms/step - loss: 0.0364 - accuracy: 0.9918\n",
      "Epoch 121/200\n",
      "10/10 [==============================] - 0s 1ms/step - loss: 0.0434 - accuracy: 1.0000\n",
      "Epoch 122/200\n",
      "10/10 [==============================] - 0s 1ms/step - loss: 0.0398 - accuracy: 1.0000\n",
      "Epoch 123/200\n",
      "10/10 [==============================] - 0s 1ms/step - loss: 0.0128 - accuracy: 1.0000\n",
      "Epoch 124/200\n",
      "10/10 [==============================] - 0s 1ms/step - loss: 0.0205 - accuracy: 1.0000\n",
      "Epoch 125/200\n",
      "10/10 [==============================] - 0s 1ms/step - loss: 0.0149 - accuracy: 1.0000\n",
      "Epoch 126/200\n",
      "10/10 [==============================] - 0s 1ms/step - loss: 0.0149 - accuracy: 1.0000\n",
      "Epoch 127/200\n",
      "10/10 [==============================] - 0s 1ms/step - loss: 0.0056 - accuracy: 1.0000\n",
      "Epoch 128/200\n",
      "10/10 [==============================] - 0s 1ms/step - loss: 0.0057 - accuracy: 1.0000\n",
      "Epoch 129/200\n",
      "10/10 [==============================] - 0s 1ms/step - loss: 0.0080 - accuracy: 1.0000\n",
      "Epoch 130/200\n",
      "10/10 [==============================] - 0s 1ms/step - loss: 0.0276 - accuracy: 0.9941\n",
      "Epoch 131/200\n",
      "10/10 [==============================] - 0s 1ms/step - loss: 0.0138 - accuracy: 1.0000\n",
      "Epoch 132/200\n",
      "10/10 [==============================] - 0s 1ms/step - loss: 0.0070 - accuracy: 1.0000\n",
      "Epoch 133/200\n",
      "10/10 [==============================] - 0s 1ms/step - loss: 0.0322 - accuracy: 1.0000\n",
      "Epoch 134/200\n",
      "10/10 [==============================] - 0s 1ms/step - loss: 0.0072 - accuracy: 1.0000\n",
      "Epoch 135/200\n",
      "10/10 [==============================] - 0s 1ms/step - loss: 0.0058 - accuracy: 1.0000\n",
      "Epoch 136/200\n",
      "10/10 [==============================] - 0s 1ms/step - loss: 0.0227 - accuracy: 0.9826\n",
      "Epoch 137/200\n",
      "10/10 [==============================] - 0s 1ms/step - loss: 0.0439 - accuracy: 0.9862\n",
      "Epoch 138/200\n",
      "10/10 [==============================] - 0s 1ms/step - loss: 0.0176 - accuracy: 0.9961\n",
      "Epoch 139/200\n",
      "10/10 [==============================] - 0s 1ms/step - loss: 0.0497 - accuracy: 0.9629\n",
      "Epoch 140/200\n",
      "10/10 [==============================] - 0s 1ms/step - loss: 0.0114 - accuracy: 1.0000\n",
      "Epoch 141/200\n",
      "10/10 [==============================] - 0s 1ms/step - loss: 0.0056 - accuracy: 1.0000\n",
      "Epoch 142/200\n",
      "10/10 [==============================] - 0s 1ms/step - loss: 0.0119 - accuracy: 1.0000\n",
      "Epoch 143/200\n",
      "10/10 [==============================] - 0s 1ms/step - loss: 0.0047 - accuracy: 1.0000\n",
      "Epoch 144/200\n",
      "10/10 [==============================] - 0s 1ms/step - loss: 0.0257 - accuracy: 1.0000\n",
      "Epoch 145/200\n",
      "10/10 [==============================] - 0s 1ms/step - loss: 0.0365 - accuracy: 1.0000\n",
      "Epoch 146/200\n",
      "10/10 [==============================] - 0s 1ms/step - loss: 0.0056 - accuracy: 1.0000\n",
      "Epoch 147/200\n",
      "10/10 [==============================] - 0s 1ms/step - loss: 0.0060 - accuracy: 1.0000\n",
      "Epoch 148/200\n",
      "10/10 [==============================] - 0s 1ms/step - loss: 0.0242 - accuracy: 1.0000\n",
      "Epoch 149/200\n",
      "10/10 [==============================] - 0s 1ms/step - loss: 0.0118 - accuracy: 1.0000\n",
      "Epoch 150/200\n",
      "10/10 [==============================] - 0s 1ms/step - loss: 0.0057 - accuracy: 1.0000\n",
      "Epoch 151/200\n",
      "10/10 [==============================] - 0s 1ms/step - loss: 0.0017 - accuracy: 1.0000\n",
      "Epoch 152/200\n",
      "10/10 [==============================] - 0s 1ms/step - loss: 0.0081 - accuracy: 1.0000\n",
      "Epoch 153/200\n",
      "10/10 [==============================] - 0s 1ms/step - loss: 0.0258 - accuracy: 0.9720\n",
      "Epoch 154/200\n",
      "10/10 [==============================] - 0s 1ms/step - loss: 0.0197 - accuracy: 1.0000\n",
      "Epoch 155/200\n",
      "10/10 [==============================] - 0s 1ms/step - loss: 0.0554 - accuracy: 0.9720\n",
      "Epoch 156/200\n",
      "10/10 [==============================] - 0s 1ms/step - loss: 0.0475 - accuracy: 0.9629\n",
      "Epoch 157/200\n",
      "10/10 [==============================] - 0s 1ms/step - loss: 0.0301 - accuracy: 1.0000\n",
      "Epoch 158/200\n",
      "10/10 [==============================] - 0s 1ms/step - loss: 0.0246 - accuracy: 1.0000\n",
      "Epoch 159/200\n",
      "10/10 [==============================] - 0s 1ms/step - loss: 0.0092 - accuracy: 1.0000\n",
      "Epoch 160/200\n",
      "10/10 [==============================] - 0s 1ms/step - loss: 0.0180 - accuracy: 1.0000\n",
      "Epoch 161/200\n",
      "10/10 [==============================] - 0s 1ms/step - loss: 0.0125 - accuracy: 1.0000\n",
      "Epoch 162/200\n",
      "10/10 [==============================] - 0s 1ms/step - loss: 0.0042 - accuracy: 1.0000\n",
      "Epoch 163/200\n",
      "10/10 [==============================] - 0s 1ms/step - loss: 0.0063 - accuracy: 1.0000\n",
      "Epoch 164/200\n"
     ]
    },
    {
     "name": "stdout",
     "output_type": "stream",
     "text": [
      "10/10 [==============================] - 0s 1ms/step - loss: 0.0045 - accuracy: 1.0000\n",
      "Epoch 165/200\n",
      "10/10 [==============================] - 0s 1ms/step - loss: 0.0259 - accuracy: 1.0000\n",
      "Epoch 166/200\n",
      "10/10 [==============================] - 0s 1ms/step - loss: 0.0163 - accuracy: 1.0000\n",
      "Epoch 167/200\n",
      "10/10 [==============================] - 0s 1ms/step - loss: 0.0174 - accuracy: 1.0000\n",
      "Epoch 168/200\n",
      "10/10 [==============================] - 0s 1ms/step - loss: 0.0066 - accuracy: 1.0000\n",
      "Epoch 169/200\n",
      "10/10 [==============================] - 0s 1ms/step - loss: 0.0503 - accuracy: 1.0000\n",
      "Epoch 170/200\n",
      "10/10 [==============================] - 0s 1ms/step - loss: 0.0272 - accuracy: 1.0000\n",
      "Epoch 171/200\n",
      "10/10 [==============================] - 0s 1ms/step - loss: 0.0155 - accuracy: 1.0000\n",
      "Epoch 172/200\n",
      "10/10 [==============================] - 0s 1ms/step - loss: 0.0129 - accuracy: 0.9941\n",
      "Epoch 173/200\n",
      "10/10 [==============================] - 0s 1ms/step - loss: 0.0084 - accuracy: 1.0000\n",
      "Epoch 174/200\n",
      "10/10 [==============================] - 0s 1ms/step - loss: 0.0030 - accuracy: 1.0000\n",
      "Epoch 175/200\n",
      "10/10 [==============================] - 0s 1ms/step - loss: 0.0218 - accuracy: 1.0000\n",
      "Epoch 176/200\n",
      "10/10 [==============================] - 0s 1ms/step - loss: 0.0302 - accuracy: 1.0000\n",
      "Epoch 177/200\n",
      "10/10 [==============================] - 0s 1ms/step - loss: 0.1359 - accuracy: 0.9447\n",
      "Epoch 178/200\n",
      "10/10 [==============================] - 0s 1ms/step - loss: 0.0068 - accuracy: 1.0000\n",
      "Epoch 179/200\n",
      "10/10 [==============================] - 0s 1ms/step - loss: 0.1126 - accuracy: 0.9629\n",
      "Epoch 180/200\n",
      "10/10 [==============================] - 0s 1ms/step - loss: 0.0030 - accuracy: 1.0000\n",
      "Epoch 181/200\n",
      "10/10 [==============================] - 0s 1ms/step - loss: 0.0187 - accuracy: 0.9961\n",
      "Epoch 182/200\n",
      "10/10 [==============================] - 0s 1ms/step - loss: 0.0291 - accuracy: 1.0000\n",
      "Epoch 183/200\n",
      "10/10 [==============================] - 0s 1ms/step - loss: 0.0042 - accuracy: 1.0000\n",
      "Epoch 184/200\n",
      "10/10 [==============================] - 0s 1ms/step - loss: 0.0288 - accuracy: 0.9941\n",
      "Epoch 185/200\n",
      "10/10 [==============================] - 0s 1ms/step - loss: 0.0031 - accuracy: 1.0000\n",
      "Epoch 186/200\n",
      "10/10 [==============================] - 0s 1ms/step - loss: 0.0350 - accuracy: 0.9826\n",
      "Epoch 187/200\n",
      "10/10 [==============================] - 0s 1ms/step - loss: 0.0059 - accuracy: 1.0000\n",
      "Epoch 188/200\n",
      "10/10 [==============================] - 0s 1ms/step - loss: 0.0176 - accuracy: 1.0000\n",
      "Epoch 189/200\n",
      "10/10 [==============================] - 0s 1ms/step - loss: 0.0182 - accuracy: 1.0000\n",
      "Epoch 190/200\n",
      "10/10 [==============================] - 0s 1ms/step - loss: 0.0358 - accuracy: 0.9862\n",
      "Epoch 191/200\n",
      "10/10 [==============================] - 0s 1ms/step - loss: 0.0101 - accuracy: 1.0000\n",
      "Epoch 192/200\n",
      "10/10 [==============================] - 0s 1ms/step - loss: 0.0133 - accuracy: 1.0000\n",
      "Epoch 193/200\n",
      "10/10 [==============================] - 0s 1ms/step - loss: 0.0213 - accuracy: 1.0000\n",
      "Epoch 194/200\n",
      "10/10 [==============================] - 0s 1ms/step - loss: 0.0103 - accuracy: 1.0000\n",
      "Epoch 195/200\n",
      "10/10 [==============================] - 0s 1ms/step - loss: 0.0129 - accuracy: 1.0000\n",
      "Epoch 196/200\n",
      "10/10 [==============================] - 0s 1ms/step - loss: 0.0115 - accuracy: 0.9918\n",
      "Epoch 197/200\n",
      "10/10 [==============================] - 0s 1ms/step - loss: 0.0134 - accuracy: 1.0000\n",
      "Epoch 198/200\n",
      "10/10 [==============================] - 0s 1ms/step - loss: 0.0048 - accuracy: 1.0000\n",
      "Epoch 199/200\n",
      "10/10 [==============================] - 0s 1ms/step - loss: 0.0113 - accuracy: 1.0000\n",
      "Epoch 200/200\n",
      "10/10 [==============================] - 0s 1ms/step - loss: 0.0484 - accuracy: 0.9892\n",
      "model created\n"
     ]
    }
   ],
   "source": [
    "hist = model.fit(np.array(train_x), np.array(train_y), epochs=200, batch_size=5, verbose=1)\n",
    "model.save('chatbot_model.h5', hist)\n",
    "\n",
    "print(\"model created\")"
   ]
  },
  {
   "cell_type": "code",
   "execution_count": 149,
   "metadata": {},
   "outputs": [],
   "source": [
    "res=model.predict(np.array([train_x[8]]))[0]"
   ]
  },
  {
   "cell_type": "code",
   "execution_count": 105,
   "metadata": {},
   "outputs": [
    {
     "data": {
      "text/plain": [
       "array([0, 0, 0, 0, 0, 0, 0, 0, 0, 1, 0, 0, 0, 0, 0, 0, 0, 0, 0, 0, 0, 0,\n",
       "       0, 0, 0, 1, 0, 0, 0, 0, 0, 0, 0, 0, 0, 0, 0, 0, 0, 0, 0, 0, 0, 0,\n",
       "       0, 0, 0, 0, 0, 0, 0, 0, 0, 0, 0, 0, 0, 0, 0, 1, 0, 1, 0, 0, 0, 0,\n",
       "       0, 0, 0, 0, 0, 0, 0, 0, 0, 0, 0, 0, 0, 0, 0, 0, 0, 0, 0, 0, 0])"
      ]
     },
     "execution_count": 105,
     "metadata": {},
     "output_type": "execute_result"
    }
   ],
   "source": [
    "np.array(np.array(train_x[8]))"
   ]
  },
  {
   "cell_type": "code",
   "execution_count": 89,
   "metadata": {},
   "outputs": [
    {
     "data": {
      "text/plain": [
       "87"
      ]
     },
     "execution_count": 89,
     "metadata": {},
     "output_type": "execute_result"
    }
   ],
   "source": [
    "len(train_x[8])"
   ]
  },
  {
   "cell_type": "code",
   "execution_count": 96,
   "metadata": {},
   "outputs": [],
   "source": [
    "def bow(sentence, words, show_details=True):\n",
    "    # tokenize the pattern\n",
    "    sentence_words = clean_up_sentence(sentence)\n",
    "    # bag of words - matrix of N words, vocabulary matrix\n",
    "    bag = [0]*len(words)  \n",
    "    for s in sentence_words:\n",
    "        for i,w in enumerate(words):\n",
    "            if w == s: \n",
    "                # assign 1 if current word is in the vocabulary position\n",
    "                bag[i] = 1\n",
    "                if show_details:\n",
    "                    print (\"found in bag: %s\" % w)\n",
    "    return(np.array(bag))"
   ]
  },
  {
   "cell_type": "code",
   "execution_count": 98,
   "metadata": {},
   "outputs": [],
   "source": [
    "def clean_up_sentence(sentence):\n",
    "    # tokenize the pattern - split words into array\n",
    "    sentence_words = nltk.word_tokenize(sentence)\n",
    "    # stem each word - create short form for word\n",
    "    sentence_words = [lemmatizer.lemmatize(word.lower()) for word in sentence_words]\n",
    "    return sentence_words"
   ]
  },
  {
   "cell_type": "code",
   "execution_count": 99,
   "metadata": {},
   "outputs": [],
   "source": [
    "x=bow('greeting',words)"
   ]
  },
  {
   "cell_type": "code",
   "execution_count": 118,
   "metadata": {},
   "outputs": [],
   "source": [
    "def predict_class(sentence, model):\n",
    "    # filter out predictions below a threshold\n",
    "    p = bow(sentence, words,show_details=False)\n",
    "    res = model.predict(np.array([p]))[0]\n",
    "    print(res)\n",
    "    ERROR_THRESHOLD = 0.25\n",
    "    results = [[i,r] for i,r in enumerate(res) if r>ERROR_THRESHOLD]\n",
    "    # sort by strength of probability\n",
    "    results.sort(key=lambda x: x[1], reverse=True)\n",
    "    return_list = []\n",
    "    for r in results:\n",
    "        return_list.append({\"intent\": classes[r[0]], \"probability\": str(r[1])})\n",
    "    return return_list"
   ]
  },
  {
   "cell_type": "code",
   "execution_count": 110,
   "metadata": {},
   "outputs": [],
   "source": [
    "from keras.models import load_model\n",
    "model = load_model('chatbot_model.h5')"
   ]
  },
  {
   "cell_type": "code",
   "execution_count": 119,
   "metadata": {},
   "outputs": [
    {
     "name": "stdout",
     "output_type": "stream",
     "text": [
      "[0.28593624 0.58473235 0.06118278 0.01128612 0.01133754 0.01502046\n",
      " 0.00413616 0.00468186 0.02168647]\n"
     ]
    }
   ],
   "source": [
    "w=predict_class('greeting',model)"
   ]
  },
  {
   "cell_type": "code",
   "execution_count": 122,
   "metadata": {},
   "outputs": [
    {
     "name": "stdout",
     "output_type": "stream",
     "text": [
      "[5.3332033e-06 5.0299104e-06 9.9997342e-01 1.0012553e-05 1.8065236e-07\n",
      " 3.2247624e-06 5.3207998e-07 5.9856312e-08 2.1353155e-06]\n"
     ]
    }
   ],
   "source": [
    "w=predict_class('thank you',model)"
   ]
  },
  {
   "cell_type": "code",
   "execution_count": 123,
   "metadata": {},
   "outputs": [
    {
     "data": {
      "text/plain": [
       "[{'intent': 'thanks', 'probability': '0.9999734'}]"
      ]
     },
     "execution_count": 123,
     "metadata": {},
     "output_type": "execute_result"
    }
   ],
   "source": [
    "r"
   ]
  },
  {
   "cell_type": "code",
   "execution_count": 166,
   "metadata": {},
   "outputs": [
    {
     "name": "stdout",
     "output_type": "stream",
     "text": [
      "OrderedDict([('rajnish', '9'), ('ravi', '10'), ('sanjeev', '15'), ('suraj', '32'), ('yash', '2')])\n"
     ]
    }
   ],
   "source": [
    "from collections import OrderedDict \n",
    "  \n",
    "dict = {'ravi':'10','rajnish':'9','sanjeev':'15','yash':'2','suraj':'32'} \n",
    "dict1 = OrderedDict(sorted(dict.items())) \n",
    "print(dict1) "
   ]
  },
  {
   "cell_type": "code",
   "execution_count": 167,
   "metadata": {},
   "outputs": [
    {
     "data": {
      "text/plain": [
       "dict_items([('ravi', '10'), ('rajnish', '9'), ('sanjeev', '15'), ('yash', '2'), ('suraj', '32')])"
      ]
     },
     "execution_count": 167,
     "metadata": {},
     "output_type": "execute_result"
    }
   ],
   "source": [
    "dict.items()"
   ]
  },
  {
   "cell_type": "code",
   "execution_count": 168,
   "metadata": {},
   "outputs": [
    {
     "data": {
      "text/plain": [
       "[('rajnish', '9'),\n",
       " ('ravi', '10'),\n",
       " ('sanjeev', '15'),\n",
       " ('suraj', '32'),\n",
       " ('yash', '2')]"
      ]
     },
     "execution_count": 168,
     "metadata": {},
     "output_type": "execute_result"
    }
   ],
   "source": [
    "sorted(dict.items())"
   ]
  },
  {
   "cell_type": "code",
   "execution_count": 174,
   "metadata": {},
   "outputs": [
    {
     "data": {
      "text/plain": [
       "'giving rajnish:'"
      ]
     },
     "execution_count": 174,
     "metadata": {},
     "output_type": "execute_result"
    }
   ],
   "source": [
    "lemmatizer.lemmatize('giving rajnish:')"
   ]
  },
  {
   "cell_type": "code",
   "execution_count": null,
   "metadata": {},
   "outputs": [],
   "source": []
  }
 ],
 "metadata": {
  "kernelspec": {
   "display_name": "Python 3",
   "language": "python",
   "name": "python3"
  },
  "language_info": {
   "codemirror_mode": {
    "name": "ipython",
    "version": 3
   },
   "file_extension": ".py",
   "mimetype": "text/x-python",
   "name": "python",
   "nbconvert_exporter": "python",
   "pygments_lexer": "ipython3",
   "version": "3.8.5"
  }
 },
 "nbformat": 4,
 "nbformat_minor": 4
}
