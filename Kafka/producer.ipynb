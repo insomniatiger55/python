{
 "cells": [
  {
   "cell_type": "code",
   "execution_count": 1,
   "id": "ethical-amazon",
   "metadata": {},
   "outputs": [],
   "source": [
    "from kafka import KafkaProducer\n",
    "from faker import Faker\n",
    "import json\n",
    "import time\n",
    "import sys\n",
    "from datetime import datetime\n",
    "faker=Faker()"
   ]
  },
  {
   "cell_type": "code",
   "execution_count": 2,
   "id": "handed-table",
   "metadata": {},
   "outputs": [],
   "source": [
    "def get_user():\n",
    "    timestamp=datetime.now()\n",
    "    timestamp.strftime(\"%H:%M:%S %p\")\n",
    "    return {\n",
    "        \"timestamp\":timestamp.strftime(\"%H:%M:%S %p\"),\n",
    "        \"name\":faker.name(),\n",
    "        \"address\":faker.address(),\n",
    "        \"created_at\":faker.year()\n",
    "    }"
   ]
  },
  {
   "cell_type": "code",
   "execution_count": 3,
   "id": "superior-alberta",
   "metadata": {},
   "outputs": [],
   "source": [
    "def json_serilizer(data):\n",
    "    return json.dumps(data).encode(\"utf-8\")   "
   ]
  },
  {
   "cell_type": "code",
   "execution_count": 4,
   "id": "imported-atlanta",
   "metadata": {},
   "outputs": [],
   "source": [
    "topic='user_info'"
   ]
  },
  {
   "cell_type": "code",
   "execution_count": 5,
   "id": "refined-talent",
   "metadata": {},
   "outputs": [],
   "source": [
    "producer = KafkaProducer(bootstrap_servers='localhost:9092',value_serializer=json_serilizer,\n",
    "                         acks='all',retries=sys.maxsize)"
   ]
  },
  {
   "cell_type": "code",
   "execution_count": 7,
   "id": "marine-corrections",
   "metadata": {},
   "outputs": [],
   "source": [
    "for _ in range(15):\n",
    "    user_info=get_user()\n",
    "    producer.send(topic,user_info)\n",
    "    time.sleep(1.5)"
   ]
  },
  {
   "cell_type": "code",
   "execution_count": 62,
   "id": "challenging-duncan",
   "metadata": {},
   "outputs": [
    {
     "data": {
      "text/plain": [
       "{'bootstrap_servers': 'localhost:9092',\n",
       " 'client_id': 'kafka-python-producer-3',\n",
       " 'key_serializer': None,\n",
       " 'value_serializer': <function __main__.json_serilizer(data)>,\n",
       " 'acks': -1,\n",
       " 'bootstrap_topics_filter': set(),\n",
       " 'compression_type': None,\n",
       " 'retries': 9223372036854775807,\n",
       " 'batch_size': 16384,\n",
       " 'linger_ms': 0,\n",
       " 'partitioner': <kafka.partitioner.default.DefaultPartitioner at 0x2238b28efa0>,\n",
       " 'buffer_memory': 33554432,\n",
       " 'connections_max_idle_ms': 540000,\n",
       " 'max_block_ms': 60000,\n",
       " 'max_request_size': 1048576,\n",
       " 'metadata_max_age_ms': 300000,\n",
       " 'retry_backoff_ms': 100,\n",
       " 'request_timeout_ms': 30000,\n",
       " 'receive_buffer_bytes': None,\n",
       " 'send_buffer_bytes': None,\n",
       " 'socket_options': [(6, 1, 1)],\n",
       " 'sock_chunk_bytes': 4096,\n",
       " 'sock_chunk_buffer_count': 1000,\n",
       " 'reconnect_backoff_ms': 50,\n",
       " 'reconnect_backoff_max_ms': 1000,\n",
       " 'max_in_flight_requests_per_connection': 5,\n",
       " 'security_protocol': 'PLAINTEXT',\n",
       " 'ssl_context': None,\n",
       " 'ssl_check_hostname': True,\n",
       " 'ssl_cafile': None,\n",
       " 'ssl_certfile': None,\n",
       " 'ssl_keyfile': None,\n",
       " 'ssl_crlfile': None,\n",
       " 'ssl_password': None,\n",
       " 'ssl_ciphers': None,\n",
       " 'api_version': (2, 5, 0),\n",
       " 'api_version_auto_timeout_ms': 2000,\n",
       " 'metric_reporters': [],\n",
       " 'metrics_num_samples': 2,\n",
       " 'metrics_sample_window_ms': 30000,\n",
       " 'selector': selectors.SelectSelector,\n",
       " 'sasl_mechanism': None,\n",
       " 'sasl_plain_username': None,\n",
       " 'sasl_plain_password': None,\n",
       " 'sasl_kerberos_service_name': 'kafka',\n",
       " 'sasl_kerberos_domain_name': None,\n",
       " 'sasl_oauth_token_provider': None,\n",
       " 'compression_attrs': 0}"
      ]
     },
     "execution_count": 62,
     "metadata": {},
     "output_type": "execute_result"
    }
   ],
   "source": [
    "producer.config"
   ]
  }
 ],
 "metadata": {
  "kernelspec": {
   "display_name": "Python 3",
   "language": "python",
   "name": "python3"
  },
  "language_info": {
   "codemirror_mode": {
    "name": "ipython",
    "version": 3
   },
   "file_extension": ".py",
   "mimetype": "text/x-python",
   "name": "python",
   "nbconvert_exporter": "python",
   "pygments_lexer": "ipython3",
   "version": "3.8.8"
  }
 },
 "nbformat": 4,
 "nbformat_minor": 5
}
