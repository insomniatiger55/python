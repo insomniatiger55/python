{
 "cells": [
  {
   "cell_type": "code",
   "execution_count": null,
   "id": "sustained-hawaii",
   "metadata": {},
   "outputs": [],
   "source": [
    "import faust\n",
    "from faker import Faker\n",
    "import json\n",
    "import time\n",
    "\n",
    "from datetime import datetime\n",
    "faker=Faker()\n"
   ]
  },
  {
   "cell_type": "code",
   "execution_count": null,
   "id": "favorite-nothing",
   "metadata": {},
   "outputs": [],
   "source": [
    "def get_user():\n",
    "    return {\n",
    "        \"timestamp\":time.strftime('%X'),\n",
    "        \"name\":faker.name(),\n",
    "        \"address\":faker.address(),\n",
    "        \"created_at\":faker.year()\n",
    "    }"
   ]
  },
  {
   "cell_type": "code",
   "execution_count": null,
   "id": "controlling-robin",
   "metadata": {},
   "outputs": [],
   "source": [
    "class username(faust.Record,isodates=True, serializer='json'):\n",
    "    timestamp: datetime \n",
    "    name: str\n",
    "    address: str\n",
    "    created_at:int"
   ]
  },
  {
   "cell_type": "code",
   "execution_count": null,
   "id": "worth-spanking",
   "metadata": {},
   "outputs": [],
   "source": [
    "class Order(faust.Record):\n",
    "    acct_id: str \n",
    "    amount: float"
   ]
  },
  {
   "cell_type": "code",
   "execution_count": null,
   "id": "hired-selection",
   "metadata": {},
   "outputs": [],
   "source": [
    "topic='order'\n",
    "app = faust.App('addOrder', broker='kafka://localhost:9092', store='memory://')\n",
    "order_topic = app.topic(topic,value_type=Order,partitions=2)\n"
   ]
  },
  {
   "cell_type": "code",
   "execution_count": null,
   "id": "seeing-literature",
   "metadata": {},
   "outputs": [],
   "source": [
    "@app.agent(order_topic)\n",
    "async def greet(orders):\n",
    "    async for order in orders:\n",
    "        print(f'Order detail is : {order.acct_id} and amount is: {order.amount}')"
   ]
  },
  {
   "cell_type": "code",
   "execution_count": null,
   "id": "alternative-policy",
   "metadata": {},
   "outputs": [],
   "source": [
    "order_topic.send()"
   ]
  },
  {
   "cell_type": "code",
   "execution_count": null,
   "id": "decimal-butter",
   "metadata": {},
   "outputs": [],
   "source": [
    "@app.timer(interval=1.0)\n",
    "async def send_order(app):\n",
    "    await order_topic.send(value=Order(acct_id='11001',amount=152.2))"
   ]
  },
  {
   "cell_type": "code",
   "execution_count": null,
   "id": "academic-tomorrow",
   "metadata": {
    "scrolled": false
   },
   "outputs": [],
   "source": [
    "if __name__ == '__main__':\n",
    "    app.main()"
   ]
  },
  {
   "cell_type": "code",
   "execution_count": null,
   "id": "solved-investment",
   "metadata": {},
   "outputs": [],
   "source": [
    "locals()"
   ]
  },
  {
   "cell_type": "code",
   "execution_count": null,
   "id": "later-wellington",
   "metadata": {},
   "outputs": [],
   "source": [
    "print(f'Order detail is : \\n'\n",
    "     'amount is: ')"
   ]
  },
  {
   "cell_type": "code",
   "execution_count": null,
   "id": "pleased-marina",
   "metadata": {},
   "outputs": [],
   "source": []
  }
 ],
 "metadata": {
  "kernelspec": {
   "display_name": "Python 3",
   "language": "python",
   "name": "python3"
  },
  "language_info": {
   "codemirror_mode": {
    "name": "ipython",
    "version": 3
   },
   "file_extension": ".py",
   "mimetype": "text/x-python",
   "name": "python",
   "nbconvert_exporter": "python",
   "pygments_lexer": "ipython3",
   "version": "3.8.8"
  }
 },
 "nbformat": 4,
 "nbformat_minor": 5
}
