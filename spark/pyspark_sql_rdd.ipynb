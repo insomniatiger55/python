{
 "cells": [
  {
   "cell_type": "code",
   "execution_count": 1,
   "metadata": {},
   "outputs": [],
   "source": [
    "import findspark\n",
    "findspark.init()\n",
    "from pyspark.sql import SparkSession\n",
    "from pyspark.sql import Row\n",
    "from pyspark.sql import functions\n",
    "import random\n"
   ]
  },
  {
   "cell_type": "code",
   "execution_count": 2,
   "metadata": {},
   "outputs": [],
   "source": [
    "def loadMovieNames():\n",
    "    movieNames = {}\n",
    "    # source file should be on hadoop cluster in prod. use local file for demo\n",
    "    # hadoop format \"hdfs:///user/jlee/u.item\"\n",
    "    with open(\"../u.item\",encoding='ISO-8859-1') as f:\n",
    "        for line in f:\n",
    "            fields = line.split('|')\n",
    "            movieNames[int(fields[0])] = fields[1]\n",
    "    return movieNames\n",
    "\n",
    "def parseInput(line):\n",
    "    fields = line.split()\n",
    "    return Row(movieID = int(fields[1]), rating = float(fields[2]))"
   ]
  },
  {
   "cell_type": "code",
   "execution_count": 3,
   "metadata": {},
   "outputs": [],
   "source": [
    "# Create a SparkSession \n",
    "spark = SparkSession.builder.appName(\"PopularMovies\").getOrCreate()\n",
    "# Load up movie data\n",
    "movieNames = loadMovieNames()"
   ]
  },
  {
   "cell_type": "code",
   "execution_count": 4,
   "metadata": {},
   "outputs": [
    {
     "data": {
      "text/plain": [
       "[\"Joe's Apartment (1996)\",\n",
       " 'Something to Talk About (1995)',\n",
       " 'Convent, The (Convento, O) (1995)',\n",
       " 'Eddie (1996)',\n",
       " 'Selena (1997)']"
      ]
     },
     "execution_count": 4,
     "metadata": {},
     "output_type": "execute_result"
    }
   ],
   "source": [
    "random.choices(movieNames,k=5)"
   ]
  },
  {
   "cell_type": "code",
   "execution_count": 5,
   "metadata": {},
   "outputs": [],
   "source": [
    "# load raw data into RDD\n",
    "lines = spark.sparkContext.textFile(\"../u.data\")"
   ]
  },
  {
   "cell_type": "code",
   "execution_count": 6,
   "metadata": {},
   "outputs": [
    {
     "data": {
      "text/plain": [
       "['196\\t242\\t3\\t881250949',\n",
       " '186\\t302\\t3\\t891717742',\n",
       " '22\\t377\\t1\\t878887116',\n",
       " '244\\t51\\t2\\t880606923',\n",
       " '166\\t346\\t1\\t886397596',\n",
       " '298\\t474\\t4\\t884182806',\n",
       " '115\\t265\\t2\\t881171488',\n",
       " '253\\t465\\t5\\t891628467',\n",
       " '305\\t451\\t3\\t886324817',\n",
       " '6\\t86\\t3\\t883603013']"
      ]
     },
     "execution_count": 6,
     "metadata": {},
     "output_type": "execute_result"
    }
   ],
   "source": [
    "lines.take(10)"
   ]
  },
  {
   "cell_type": "code",
   "execution_count": 7,
   "metadata": {},
   "outputs": [],
   "source": [
    "# Convert it to a RDD of Row objects in  (movieID, rating) format\n",
    "movies = lines.map(parseInput)\n",
    "# Convert to a DataFrame\n",
    "movieDf = spark.createDataFrame(movies)"
   ]
  },
  {
   "cell_type": "code",
   "execution_count": 8,
   "metadata": {},
   "outputs": [
    {
     "data": {
      "text/plain": [
       "[Row(movieID=242, rating=3.0),\n",
       " Row(movieID=302, rating=3.0),\n",
       " Row(movieID=377, rating=1.0),\n",
       " Row(movieID=51, rating=2.0),\n",
       " Row(movieID=346, rating=1.0)]"
      ]
     },
     "execution_count": 8,
     "metadata": {},
     "output_type": "execute_result"
    }
   ],
   "source": [
    "movieDf.take(5)"
   ]
  },
  {
   "cell_type": "code",
   "execution_count": 9,
   "metadata": {},
   "outputs": [],
   "source": [
    "# Compute average by movieID\n",
    "averageRatings = movieDf.groupBy(\"movieID\").avg(\"rating\")\n",
    "# Compute count by each movieID\n",
    "counts = movieDf.groupBy(\"movieID\").count()\n"
   ]
  },
  {
   "cell_type": "code",
   "execution_count": 10,
   "metadata": {
    "scrolled": true
   },
   "outputs": [
    {
     "data": {
      "text/plain": [
       "[Row(movieID=474, avg(rating)=4.252577319587629),\n",
       " Row(movieID=29, avg(rating)=2.6666666666666665),\n",
       " Row(movieID=26, avg(rating)=3.452054794520548),\n",
       " Row(movieID=964, avg(rating)=3.3333333333333335),\n",
       " Row(movieID=1677, avg(rating)=3.0)]"
      ]
     },
     "execution_count": 10,
     "metadata": {},
     "output_type": "execute_result"
    }
   ],
   "source": [
    "averageRatings.take(5)"
   ]
  },
  {
   "cell_type": "code",
   "execution_count": 28,
   "metadata": {},
   "outputs": [],
   "source": [
    "rounded_averageRatings=averageRatings.rdd.map(lambda x : Row(movieID=x[0], avg_rating=round(x[1],2)))"
   ]
  },
  {
   "cell_type": "code",
   "execution_count": 30,
   "metadata": {},
   "outputs": [],
   "source": [
    "rounded_averageRatings=rounded_averageRatings.toDF()"
   ]
  },
  {
   "cell_type": "code",
   "execution_count": 31,
   "metadata": {},
   "outputs": [
    {
     "data": {
      "text/plain": [
       "[Row(movieID=474, avg_rating=4.25),\n",
       " Row(movieID=29, avg_rating=2.67),\n",
       " Row(movieID=26, avg_rating=3.45),\n",
       " Row(movieID=964, avg_rating=3.33),\n",
       " Row(movieID=1677, avg_rating=3.0)]"
      ]
     },
     "execution_count": 31,
     "metadata": {},
     "output_type": "execute_result"
    }
   ],
   "source": [
    "rounded_averageRatings.take(5)"
   ]
  },
  {
   "cell_type": "code",
   "execution_count": 32,
   "metadata": {},
   "outputs": [],
   "source": [
    "# Join the two together \n",
    "averagesAndCounts = counts.join(rounded_averageRatings, \"movieID\")\n",
    "# Pull the top 10 \n",
    "topTen_lowest = averagesAndCounts.orderBy(\"avg_rating\").take(10)"
   ]
  },
  {
   "cell_type": "code",
   "execution_count": 34,
   "metadata": {},
   "outputs": [
    {
     "data": {
      "text/plain": [
       "[Row(movieID=1343, count=1, avg_rating=1.0),\n",
       " Row(movieID=1571, count=1, avg_rating=1.0),\n",
       " Row(movieID=439, count=5, avg_rating=1.0),\n",
       " Row(movieID=830, count=1, avg_rating=1.0),\n",
       " Row(movieID=1374, count=2, avg_rating=1.0),\n",
       " Row(movieID=1671, count=1, avg_rating=1.0),\n",
       " Row(movieID=1329, count=1, avg_rating=1.0),\n",
       " Row(movieID=858, count=3, avg_rating=1.0),\n",
       " Row(movieID=1567, count=1, avg_rating=1.0),\n",
       " Row(movieID=1559, count=1, avg_rating=1.0)]"
      ]
     },
     "execution_count": 34,
     "metadata": {},
     "output_type": "execute_result"
    }
   ],
   "source": [
    "topTen_lowest"
   ]
  },
  {
   "cell_type": "code",
   "execution_count": 33,
   "metadata": {},
   "outputs": [
    {
     "name": "stdout",
     "output_type": "stream",
     "text": [
      "Lotto Land (1995) 1 1.0\n",
      "Touki Bouki (Journey of the Hyena) (1973) 1 1.0\n",
      "Amityville: A New Generation (1993) 5 1.0\n",
      "Power 98 (1995) 1 1.0\n",
      "Falling in Love Again (1980) 2 1.0\n",
      "Further Gesture, A (1996) 1 1.0\n",
      "Low Life, The (1994) 1 1.0\n",
      "Amityville: Dollhouse (1996) 3 1.0\n",
      "Careful (1992) 1 1.0\n",
      "Hostile Intentions (1994) 1 1.0\n"
     ]
    }
   ],
   "source": [
    "# Print them out\n",
    "for movie in topTen_lowest:\n",
    "    print (movieNames[movie[0]], movie[1], movie[2])"
   ]
  },
  {
   "cell_type": "code",
   "execution_count": 36,
   "metadata": {},
   "outputs": [
    {
     "data": {
      "text/plain": [
       "[Row(movieID=1293, count=3, avg_rating=5.0),\n",
       " Row(movieID=1500, count=2, avg_rating=5.0),\n",
       " Row(movieID=1653, count=1, avg_rating=5.0),\n",
       " Row(movieID=1122, count=1, avg_rating=5.0),\n",
       " Row(movieID=1201, count=1, avg_rating=5.0),\n",
       " Row(movieID=1536, count=1, avg_rating=5.0),\n",
       " Row(movieID=1189, count=3, avg_rating=5.0),\n",
       " Row(movieID=814, count=1, avg_rating=5.0),\n",
       " Row(movieID=1599, count=1, avg_rating=5.0),\n",
       " Row(movieID=1467, count=2, avg_rating=5.0)]"
      ]
     },
     "execution_count": 36,
     "metadata": {},
     "output_type": "execute_result"
    }
   ],
   "source": [
    "topTen_best = averagesAndCounts.orderBy(averagesAndCounts.avg_rating.desc()).take(10)\n",
    "topTen_best"
   ]
  },
  {
   "cell_type": "code",
   "execution_count": 37,
   "metadata": {},
   "outputs": [
    {
     "name": "stdout",
     "output_type": "stream",
     "text": [
      "Star Kid (1997) 3 5.0\n",
      "Santa with Muscles (1996) 2 5.0\n",
      "Entertaining Angels: The Dorothy Day Story (1996) 1 5.0\n",
      "They Made Me a Criminal (1939) 1 5.0\n",
      "Marlene Dietrich: Shadow and Light (1996)  1 5.0\n",
      "Aiqing wansui (1994) 1 5.0\n",
      "Prefontaine (1997) 3 5.0\n",
      "Great Day in Harlem, A (1994) 1 5.0\n",
      "Someone Else's America (1995) 1 5.0\n",
      "Saint of Fort Washington, The (1993) 2 5.0\n"
     ]
    }
   ],
   "source": [
    "# Print them out\n",
    "for movie in topTen_best:\n",
    "    print (movieNames[movie[0]], movie[1], movie[2])"
   ]
  },
  {
   "cell_type": "code",
   "execution_count": null,
   "metadata": {},
   "outputs": [],
   "source": [
    "#Above results are not accurate as most of the movies were only rated a few times"
   ]
  },
  {
   "cell_type": "code",
   "execution_count": 52,
   "metadata": {},
   "outputs": [],
   "source": [
    "averagesAndCounts_RDD=averagesAndCounts.rdd.filter(lambda x: x[1] > 50)"
   ]
  },
  {
   "cell_type": "code",
   "execution_count": 53,
   "metadata": {},
   "outputs": [
    {
     "data": {
      "text/plain": [
       "[Row(movieID=26, count=73, avg_rating=3.45),\n",
       " Row(movieID=29, count=114, avg_rating=2.67),\n",
       " Row(movieID=474, count=194, avg_rating=4.25),\n",
       " Row(movieID=65, count=115, avg_rating=3.54),\n",
       " Row(movieID=191, count=276, avg_rating=4.16)]"
      ]
     },
     "execution_count": 53,
     "metadata": {},
     "output_type": "execute_result"
    }
   ],
   "source": [
    "averagesAndCounts_RDD.take(5)"
   ]
  },
  {
   "cell_type": "code",
   "execution_count": 54,
   "metadata": {},
   "outputs": [],
   "source": [
    "results=averagesAndCounts_RDD.sortBy(lambda x: x[2],ascending=False)"
   ]
  },
  {
   "cell_type": "code",
   "execution_count": 60,
   "metadata": {},
   "outputs": [
    {
     "name": "stdout",
     "output_type": "stream",
     "text": [
      "Close Shave, A (1995) 112 4.49\n",
      "Schindler's List (1993) 298 4.47\n",
      "Wrong Trousers, The (1993) 118 4.47\n",
      "Casablanca (1942) 243 4.46\n",
      "Wallace & Gromit: The Best of Aardman Animation (1996) 67 4.45\n",
      "Shawshank Redemption, The (1994) 283 4.45\n",
      "Usual Suspects, The (1995) 267 4.39\n",
      "Rear Window (1954) 209 4.39\n",
      "Star Wars (1977) 583 4.36\n",
      "12 Angry Men (1957) 125 4.34\n"
     ]
    }
   ],
   "source": [
    "for result in results.take(10):\n",
    "        print(movieNames[result[0]], result[1], result[2])"
   ]
  },
  {
   "cell_type": "code",
   "execution_count": null,
   "metadata": {},
   "outputs": [],
   "source": [
    "# Stop the session\n",
    "spark.stop()"
   ]
  },
  {
   "cell_type": "code",
   "execution_count": null,
   "metadata": {},
   "outputs": [],
   "source": []
  }
 ],
 "metadata": {
  "kernelspec": {
   "display_name": "Python 3",
   "language": "python",
   "name": "python3"
  },
  "language_info": {
   "codemirror_mode": {
    "name": "ipython",
    "version": 3
   },
   "file_extension": ".py",
   "mimetype": "text/x-python",
   "name": "python",
   "nbconvert_exporter": "python",
   "pygments_lexer": "ipython3",
   "version": "3.8.5"
  }
 },
 "nbformat": 4,
 "nbformat_minor": 4
}
